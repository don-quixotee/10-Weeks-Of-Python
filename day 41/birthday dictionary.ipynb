{
 "cells": [
  {
   "cell_type": "code",
   "execution_count": null,
   "metadata": {},
   "outputs": [],
   "source": [
    "Create a dictionary (in your file) of names and birthdays.\n",
    "When you run your program it should ask the user to\n",
    "enter a name, and return the birthday of that person\n",
    "back to them. The interaction should look something\n",
    "like this:"
   ]
  },
  {
   "cell_type": "code",
   "execution_count": 4,
   "metadata": {},
   "outputs": [
    {
     "name": "stdout",
     "output_type": "stream",
     "text": [
      "Welcome to the Birthday game ! We have the birthdays to:\n",
      "Abhishek singh\n",
      "anay sinha\n",
      "Steve Jobs\n",
      "\n",
      "Who's birthday do you want to look up?   Steve Jobs\n",
      "The birthday of Steve Jobs is: \n",
      "24/2/1955\n"
     ]
    }
   ],
   "source": [
    "import time\n",
    "Birthdays ={\n",
    "    \"Abhishek singh\": \"20/01/2000\",\n",
    "    \"anay sinha\": \"2/11/1998\",\n",
    "    \"Steve Jobs\": \"24/2/1955\",\n",
    "}\n",
    "print(\"Welcome to the Birthday game ! We have the birthdays to:\")\n",
    "time.sleep(1)\n",
    "\"\"\" time. sleep is used to delay the execution for the given time\"\"\"\n",
    "for x in Birthdays:\n",
    "    print(x)\n",
    "    time.sleep(0.7)\n",
    "choice= input(\"\\nWho's birthday do you want to look up?   \")\n",
    "\n",
    "if choice in Birthdays:\n",
    "    print(\"The birthday of {} is: \".format(choice))\n",
    "    print(Birthdays[choice])\n",
    "    \"\"\" as the values of the dictionary are the birthday so we are using keys to \n",
    "    access the birthdays\"\"\""
   ]
  },
  {
   "cell_type": "code",
   "execution_count": null,
   "metadata": {},
   "outputs": [],
   "source": []
  }
 ],
 "metadata": {
  "kernelspec": {
   "display_name": "Python 3",
   "language": "python",
   "name": "python3"
  },
  "language_info": {
   "codemirror_mode": {
    "name": "ipython",
    "version": 3
   },
   "file_extension": ".py",
   "mimetype": "text/x-python",
   "name": "python",
   "nbconvert_exporter": "python",
   "pygments_lexer": "ipython3",
   "version": "3.6.5"
  }
 },
 "nbformat": 4,
 "nbformat_minor": 4
}
