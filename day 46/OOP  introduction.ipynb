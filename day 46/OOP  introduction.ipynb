{
 "cells": [
  {
   "cell_type": "markdown",
   "metadata": {},
   "source": [
    "# object oriented proframming in python"
   ]
  },
  {
   "cell_type": "code",
   "execution_count": null,
   "metadata": {},
   "outputs": [],
   "source": [
    "1. in python everythinng is an object\n",
    "2. Names are used to refer or access an object\n"
   ]
  },
  {
   "cell_type": "code",
   "execution_count": null,
   "metadata": {},
   "outputs": [],
   "source": [
    "Namespace:-\n",
    "    namespace is a collection of names\n",
    "    In Python, you can imagine a namespace as a mapping of every name, you have defined, to corresponding objects.\n",
    "    Different namespaces can co-exist at a given time but are completely isolated.\n",
    "    A namespace containing all the built-in names is created when we start the Python interpreter and exists as long we don't exit.\n",
    "    And that is why we  able to use inbuilt names and function in amy part of the program.\n",
    "    Each modules in python creates its own global namespace\n",
    "    A local namespace is created in a module when the function is being called.\n",
    "    \n",
    "    "
   ]
  },
  {
   "cell_type": "code",
   "execution_count": 3,
   "metadata": {},
   "outputs": [],
   "source": [
    "#creating class & object in python:-\n",
    "class Class_name:\n",
    "    pass\n",
    "object_name = Class_name ()\n"
   ]
  },
  {
   "cell_type": "code",
   "execution_count": null,
   "metadata": {},
   "outputs": [],
   "source": [
    "A class is defined by class keyword followed by class_name\n"
   ]
  },
  {
   "cell_type": "code",
   "execution_count": 9,
   "metadata": {},
   "outputs": [
    {
     "name": "stdout",
     "output_type": "stream",
     "text": [
      "22\n",
      "22\n",
      "\n",
      "<class '__main__.Myclass'>\n",
      "<class 'type'>\n"
     ]
    }
   ],
   "source": [
    "class Myclass:\n",
    "    a=22#a class variable\n",
    "    \n",
    "    \n",
    "x=Myclass()#creating an object of the class\n",
    "print(x.a)#accessing class variable uisng object\n",
    "print(Myclass.a)#accesing a class variable using class_name itself\n",
    "print()\n",
    "print(type(x))\n",
    "print(type(Myclass))"
   ]
  },
  {
   "cell_type": "code",
   "execution_count": null,
   "metadata": {},
   "outputs": [],
   "source": [
    "#the exicution starts when the object is created for that perticalr class \n",
    "#without an object a cass is worthless."
   ]
  },
  {
   "cell_type": "markdown",
   "metadata": {},
   "source": [
    "__init__ function:-\n",
    "It works like a  constructor but not exactly a constructor.\n",
    "we dont need to call the init method  for the execution\n",
    "it automatically start executing when an object is  created for the perticular class\n",
    "\n",
    "Instance variable:-\n",
    "variable inside the class body which is created using an object is called instance variable\n",
    "inside a class we can use an instance variable anywhere inside the class body dicrectly\n",
    "even inside diffeerent methods of the class  using self(object)\n",
    "\n",
    "self:-\n",
    "self  is used as an object  of the class to create instance variable.\n"
   ]
  },
  {
   "cell_type": "code",
   "execution_count": 12,
   "metadata": {},
   "outputs": [
    {
     "name": "stdout",
     "output_type": "stream",
     "text": [
      "Abhishek\n",
      "don.quixottte@gmail.com\n"
     ]
    }
   ],
   "source": [
    "class Student:\n",
    "    def __init__(self,name,email):\n",
    "        self.Name = name\n",
    "        self.Email = email\n",
    "\n",
    "s=Student(\"Abhishek\",\"don.quixottte@gmail.com\")\n",
    "print(s.Name)\n",
    "print(s.Email)\n",
    "        "
   ]
  },
  {
   "cell_type": "code",
   "execution_count": 14,
   "metadata": {},
   "outputs": [
    {
     "name": "stdout",
     "output_type": "stream",
     "text": [
      "5.0 -1.5\n"
     ]
    }
   ],
   "source": [
    "class Complex:\n",
    "    def __init__(s,realpart,imgpart):\n",
    "        s.r=realpart\n",
    "        s.i=imgpart\n",
    "n=Complex(5.0,-1.5)\n",
    "print(n.r,n.i)"
   ]
  },
  {
   "cell_type": "code",
   "execution_count": 25,
   "metadata": {},
   "outputs": [
    {
     "name": "stdout",
     "output_type": "stream",
     "text": [
      "['catch_the_ball']\n",
      "['flip_the_boul']\n"
     ]
    }
   ],
   "source": [
    "#creating a class with a __init__ method and User defined method and print values after passing it  to the class\n",
    "\n",
    "class Dog:\n",
    "    def __init__(s,Name):\n",
    "        s.name=Name\n",
    "        s.tricks=[]\n",
    "    def dogTricks(s,trick):\n",
    "        s.tricks.append(trick)\n",
    "        return (s.tricks)\n",
    "dog1=Dog(\"gerry\")\n",
    "dog2 = Dog(\"gabbar\")\n",
    "print(dog1.dogTricks(\"catch_the_ball\"))\n",
    "print(dog2.dogTricks(\"flip_the_boul\"))\n",
    "\n"
   ]
  },
  {
   "cell_type": "code",
   "execution_count": 101,
   "metadata": {},
   "outputs": [
    {
     "data": {
      "text/plain": [
       "['chocolate', 'chocolate', 'chocolate']"
      ]
     },
     "execution_count": 101,
     "metadata": {},
     "output_type": "execute_result"
    }
   ],
   "source": [
    "\n",
    "class Cart:\n",
    "    def __init__(self):\n",
    "        self.item=[]\n",
    "\n",
    "    def addItem(self,data):\n",
    "        self.item.append(data)\n",
    "        return self.item\n",
    "        \n",
    "    def addMoreItem(self,data):\n",
    "        self.addItem(data)\n",
    "    \n",
    "        return self.item\n",
    "        \n",
    "item1=Cart()\n",
    "item2=Cart()\n",
    "item3=Cart()\n",
    "item4=Cart()\n",
    "item5=Cart()\n",
    "\n",
    "item2.addMoreItem(\"chocolate\")\n",
    "item2.addMoreItem(\"chocolate\")\n",
    "item2.addItem(\"chocolate\")\n",
    "\n",
    "\n",
    "\n",
    "# item3.addMoreItem(\"socks\")\n",
    "# item1.addItem(\"books\")\n",
    "# item1.addItem(\"travel\")\n",
    "\n",
    "\n"
   ]
  },
  {
   "cell_type": "code",
   "execution_count": null,
   "metadata": {},
   "outputs": [],
   "source": [
    "Note:-for a class every object is uniqe so when we store the detail of a object in some \n",
    "    class only that object can call or say  access the data for that object\n",
    "    "
   ]
  }
 ],
 "metadata": {
  "kernelspec": {
   "display_name": "Python 3",
   "language": "python",
   "name": "python3"
  },
  "language_info": {
   "codemirror_mode": {
    "name": "ipython",
    "version": 3
   },
   "file_extension": ".py",
   "mimetype": "text/x-python",
   "name": "python",
   "nbconvert_exporter": "python",
   "pygments_lexer": "ipython3",
   "version": "3.7.6"
  }
 },
 "nbformat": 4,
 "nbformat_minor": 4
}
