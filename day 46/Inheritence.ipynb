{
 "cells": [
  {
   "cell_type": "code",
   "execution_count": null,
   "metadata": {},
   "outputs": [],
   "source": [
    "inheritence:-inheritence allows us to reuse a class's data into another class\n",
    "    . The new class is called derived (or child) class and the one from which \n",
    "      it inherits is called the base (or parent) class.\n",
    "    \n",
    "    "
   ]
  },
  {
   "cell_type": "code",
   "execution_count": null,
   "metadata": {},
   "outputs": [],
   "source": [
    "class BaseClass:\n",
    "  Body of base class\n",
    "class DerivedClass(BaseClass):\n",
    "  Body of derived class"
   ]
  },
  {
   "cell_type": "code",
   "execution_count": 17,
   "metadata": {},
   "outputs": [
    {
     "name": "stdout",
     "output_type": "stream",
     "text": [
      "c programming denis ritchie\n",
      "physics Hc verma\n",
      "None\n"
     ]
    }
   ],
   "source": [
    "#here class books inherited the class Library and \n",
    "#now we can access the class libraray with the object of class books\n",
    "class Library:\n",
    "    def __init__(self, bookname,authorname):\n",
    "        self.Bname = bookname\n",
    "        self.Aname = authorname\n",
    "    def bookDetail(self):\n",
    "        print(self.Bname, self.Aname)\n",
    "        \n",
    "class Books(Library):\n",
    "    pass\n",
    "\n",
    "x = Library(\"c programming\",\"denis ritchie\")\n",
    "x.bookDetail()\n",
    "y = Books(\"physics\", \"Hc verma\")\n",
    "print(y.bookDetail())\n",
    "x\n"
   ]
  },
  {
   "cell_type": "code",
   "execution_count": 19,
   "metadata": {},
   "outputs": [
    {
     "name": "stdout",
     "output_type": "stream",
     "text": [
      "c programming denis ritchie\n",
      "physics Hc verma\n",
      "None\n"
     ]
    },
    {
     "data": {
      "text/plain": [
       "<__main__.Library at 0x7f23e871c650>"
      ]
     },
     "execution_count": 19,
     "metadata": {},
     "output_type": "execute_result"
    }
   ],
   "source": [
    "#since the class book has its own __init__ function \n",
    "#we are using dot(.) as connecter with library class the \n",
    "#to inherit its data\n",
    "    \n",
    "class Library:\n",
    "    def __init__(self, bookname,authorname):\n",
    "        self.Bname = bookname\n",
    "        self.Aname = authorname\n",
    "    def bookDetail(self):\n",
    "        print(self.Bname, self.Aname)\n",
    "        \n",
    "class Books(Library):\n",
    "    def __init__(self ,bookname, authorname):\n",
    "        Library.__init__(self,bookname, authorname)\n",
    "x = Library(\"c programming\",\"denis ritchie\")\n",
    "x.bookDetail()\n",
    "y = Books(\"physics\", \"Hc verma\")\n",
    "print(y.bookDetail())\n",
    "x\n"
   ]
  },
  {
   "cell_type": "raw",
   "metadata": {},
   "source": [
    "multiple inheritence"
   ]
  },
  {
   "cell_type": "code",
   "execution_count": null,
   "metadata": {},
   "outputs": [],
   "source": [
    "class A(object):\n",
    "    def doThis(self):\n",
    "        print('Doing this in A')\n",
    "\n",
    "class B(A):\n",
    "    pass\n",
    "\n",
    "#If class C was also eing derived from A then the lookup order would be D,B,C,A\n",
    "class C(object):\n",
    "    def doThis(self):\n",
    "        print('Doing this in C')\n",
    "\n",
    "class D(B, A):\n",
    "    pass\n",
    "\n",
    "if __name__ == '__main__':\n",
    "    dObj = D()\n",
    "    dObj.doThis() #A method gets called because order for lookup is D,B,A,C this is shown by function mro\n",
    "\n",
    "    print(D.mro())\n"
   ]
  },
  {
   "cell_type": "code",
   "execution_count": null,
   "metadata": {},
   "outputs": [],
   "source": [
    "#python also allows multiple inheritence\n",
    "class A()"
   ]
  }
 ],
 "metadata": {
  "kernelspec": {
   "display_name": "Python 3",
   "language": "python",
   "name": "python3"
  },
  "language_info": {
   "codemirror_mode": {
    "name": "ipython",
    "version": 3
   },
   "file_extension": ".py",
   "mimetype": "text/x-python",
   "name": "python",
   "nbconvert_exporter": "python",
   "pygments_lexer": "ipython3",
   "version": "3.7.6"
  }
 },
 "nbformat": 4,
 "nbformat_minor": 4
}
