{
 "cells": [
  {
   "cell_type": "raw",
   "metadata": {},
   "source": [
    "\n",
    "Problem 1\n",
    "\n",
    "In a normal supermarket, things are identified using Stock Keeping Units,. In our store, we’ll use individual letters of the alphabet (A, B, C, and so on). Our goods are priced individually. In addition, some items are multipriced: buy n of them, and they’ll cost you y Rs. For example, item ‘A’ might cost 50 Rs individually, but this week we have a special offer: buy three ‘A’s and they’ll cost you 120Rs. In fact this week’s prices are:\n",
    "\n",
    "Item Unit Special Price Price A 50 3 for 120 B 50 2 for 45 C 20\n",
    "\n",
    "Our checkout accepts items in any order, so that if we scan a B, an A, and another B, we’ll recognize the two B’s and price them at 45 . Because the pricing changes frequently, we need to be able to pass in a set of pricing rules each time we start handling a checkout transaction."
   ]
  },
  {
   "cell_type": "raw",
   "metadata": {},
   "source": [
    "class products:\n",
    "    \"\"\" for adding information about product ,unit,price,stock and offer\"\"\"\n",
    "    product name\n",
    "    product price\n",
    "    product id\n",
    "    stock\n",
    "    offer\n",
    "\n",
    "class Admin:\n",
    "    \"\"\"to do operations on products like add remove\"\"\"\n",
    "    for __init__\n",
    "    Admin name\n",
    "    username\n",
    "    email\n",
    "    for add_product\n",
    "    product id\n",
    "    product name\n",
    "    unit price\n",
    "    stock\n",
    "    offer\n",
    "    for add_offer\n",
    "    order_id, min_qty, offer_price\n",
    "class offer:\n",
    "    \"\"\" to calculate offer on the product boought\"\"\"\n",
    "    __init__\n",
    "    order_id\n",
    "    min_qty\n",
    "    offer_price\n",
    "    \n",
    "class system:\n",
    "    \"\"\" to do the final calculation for the shopppinhg done \n",
    "    by the usser\"\"\"\n",
    "    decorator method\n",
    "    def cal_bill:\n",
    "        cart\n",
    "        \n",
    "class cutomer:\n",
    "    \"\"\" to create cutomer profile and to shopping opptions\"\"\"\n",
    "    \n",
    "    __init__\n",
    "    name \n",
    "    phone\n",
    "    \n",
    "    "
   ]
  },
  {
   "cell_type": "code",
   "execution_count": null,
   "metadata": {},
   "outputs": [],
   "source": []
  },
  {
   "cell_type": "code",
   "execution_count": null,
   "metadata": {},
   "outputs": [],
   "source": []
  },
  {
   "cell_type": "code",
   "execution_count": 25,
   "metadata": {},
   "outputs": [],
   "source": [
    "class Offer:\n",
    "    def __init__(self, o_id, min_qty, offer_price):\n",
    "        self.o_id = o_id\n",
    "        self.min_qty = min_qty\n",
    "        self.offer_price = offer_price\n",
    "        \n",
    "class Product:\n",
    "    \n",
    "    product = []\n",
    "    \n",
    "    @classmethod\n",
    "    def add_obj(cls, obj):\n",
    "        cls.product.append(obj)\n",
    "        \n",
    "    def __init__(self, p_id, p_name, unit_price, stock, offer = None):\n",
    "        self.p_id = p_id\n",
    "        self.p_name = p_name\n",
    "        self.unit_price = unit_price\n",
    "        self.stock = stock\n",
    "        self.offer = offer\n",
    "        Product.add_obj(self)\n",
    "        \n",
    "class Admin:\n",
    "    def __init__(self, name, username, email):\n",
    "        self.name = name\n",
    "        self.username = username\n",
    "        self.email = email\n",
    "        \n",
    "    def add_product(self,p_id,p_name,unit_price,stock,offer=None):\n",
    "        prod = Product(p_id,p_name,unit_price,stock,offer)\n",
    "        return prod\n",
    "    \n",
    "    def add_offer(self, o_id, min_qty, offer_price):\n",
    "        offer = Offer( o_id, min_qty, offer_price)\n",
    "        return offer\n",
    "    \n",
    "class System:\n",
    "    @classmethod\n",
    "    def cal_bill(cls, cart):\n",
    "        total_bill = 0\n",
    "        for prod, qty in cart.items():\n",
    "            if prod.offer:\n",
    "                total_bill+= prod.offer.offer_price * (qty // prod.offer.min_qty) +qty % prod.offer.min_qty * prod.unit_price\n",
    "            else:\n",
    "                total_bill = total_bill + prod.unit_price*qty\n",
    "        return total_bill\n",
    "class Customer:\n",
    "    def __init__(self, name , phone):\n",
    "        self.name = name\n",
    "        self.phone = phone\n",
    "        self.cart = {}\n",
    "    \n",
    "    def  add_to_cart(self, product, qty):\n",
    "        if prodcut not in self.cart:\n",
    "            self.cart.setdefault(product, qty)\n",
    "        else:\n",
    "            self.cart[product] += qty\n",
    "    def  view_cart(Self):\n",
    "        return {key.p_name:value for key ,value in self.cart.items()}\n",
    "    def checkout(self):\n",
    "        return System.cal_bill(self.cart)\n",
    "    \n",
    "    \n",
    "    "
   ]
  },
  {
   "cell_type": "code",
   "execution_count": 28,
   "metadata": {},
   "outputs": [],
   "source": [
    "admin1 = Admin(\"anay\",\"101Anay\",\"anay@anay.com\")\n",
    "admin2 = Admin(\"tanay\",\"111ytAnay\",\"tanay@tanay.com\")"
   ]
  },
  {
   "cell_type": "code",
   "execution_count": 27,
   "metadata": {},
   "outputs": [],
   "source": [
    "off1 = Offer(101,3,120)\n",
    "off2 = Offer(102,2,45)"
   ]
  },
  {
   "cell_type": "code",
   "execution_count": 26,
   "metadata": {},
   "outputs": [],
   "source": [
    "p1 = admin1.add_product(1,\"A\",50,100,off1)\n",
    "p2 = admin1.add_product(2,\"B\",30,100,off2)\n",
    "p3= admin1.add_product(3,\"C\",20,100)\n"
   ]
  }
 ],
 "metadata": {
  "kernelspec": {
   "display_name": "Python 3",
   "language": "python",
   "name": "python3"
  },
  "language_info": {
   "codemirror_mode": {
    "name": "ipython",
    "version": 3
   },
   "file_extension": ".py",
   "mimetype": "text/x-python",
   "name": "python",
   "nbconvert_exporter": "python",
   "pygments_lexer": "ipython3",
   "version": "3.7.6"
  }
 },
 "nbformat": 4,
 "nbformat_minor": 4
}
