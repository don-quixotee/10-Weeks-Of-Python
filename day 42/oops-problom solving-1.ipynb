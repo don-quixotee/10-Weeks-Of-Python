{
 "cells": [
  {
   "cell_type": "code",
   "execution_count": null,
   "metadata": {},
   "outputs": [],
   "source": []
  },
  {
   "cell_type": "code",
   "execution_count": 38,
   "metadata": {},
   "outputs": [],
   "source": [
    "\n",
    "\n",
    "class Course:\n",
    "    \n",
    "    courses = []\n",
    "    @classmethod\n",
    "    def check_courses(cls,c_id):\n",
    "        for couse in cls.courses:\n",
    "            if course.c_id == c_id:\n",
    "                return course\n",
    "            else:\n",
    "                return -1\n",
    "    @classmethod\n",
    "    def add_course(cls,obj):\n",
    "        cls.courses.append(obj)\n",
    "    \n",
    "    \n",
    "\n",
    "    def __init__(self, c_id, c_name, c_desc, author ):\n",
    "        self.c_name = c_name\n",
    "        self.c_id = c_id\n",
    "        self.c_desc = c_desc\n",
    "        self.author = author\n",
    "        Course.add_course(self)\n",
    "        \n",
    "        \n",
    "\n",
    "class Tutorial:\n",
    "    tutorials = []\n",
    "    def __init__(self, t_id, t_name, t_content, course):\n",
    "        self.t_name = t_name\n",
    "        self.t_id = t_id\n",
    "        self.t_content = t_content\n",
    "        self.course = course\n",
    "        Tutorial.tutorials.append(self)\n",
    "        \n",
    "        \n",
    "    def get_details(self):\n",
    "        return self.t_id, self.t_name, self.t_content\n",
    "        \n",
    "\n",
    "class Author:\n",
    "    def __init__(self,name,prof,exp,tech):\n",
    "        self.name = name\n",
    "        self.prof = prof\n",
    "        self.exp = exp\n",
    "        self.tech = tech\n",
    "\n",
    "\n"
   ]
  },
  {
   "cell_type": "code",
   "execution_count": 41,
   "metadata": {},
   "outputs": [],
   "source": [
    "auth1 = Author(\"ABC\",\"xyz\",5,['c','c++','python'])\n",
    "auth2 = Author(\"ABD\",\"xya\",7,['c','python'])\n",
    "auth3 = Author(\"ABE\",\"xyb\",5,['python'])\n",
    "auth4 = Author(\"ABF\",\"xyc\",10,['python'])"
   ]
  },
  {
   "cell_type": "code",
   "execution_count": 29,
   "metadata": {},
   "outputs": [],
   "source": [
    "course1 = Course(101,\"Python\",\"Python Beg. to Advanced\",auth1)\n",
    "course2 = Course(102,\"Django\",\"Django Beg. to Advanced\",auth4)"
   ]
  },
  {
   "cell_type": "code",
   "execution_count": 30,
   "metadata": {},
   "outputs": [],
   "source": [
    "tut1 = Tutorial(1,\"Python basics\",\"Operators,Conditional Statements\",course1)\n",
    "tut2 = Tutorial(2,\"Python loops\",\"For,While Loops\",course1)\n",
    "tut3 = Tutorial(3,\"Python lists\",\"Append,Extend,Insert\",course1)\n",
    "\n",
    "tut4 = Tutorial(4,\"Django Models\",\"Models,Migrations,Model fields\",course2)\n",
    "tut5 = Tutorial(5,\"Django Views\",\"Class Based and Function based views\",course2)"
   ]
  },
  {
   "cell_type": "code",
   "execution_count": 42,
   "metadata": {},
   "outputs": [
    {
     "data": {
      "text/plain": [
       "(1, 'Python basics', 'Operators,Conditional Statements')"
      ]
     },
     "execution_count": 42,
     "metadata": {},
     "output_type": "execute_result"
    }
   ],
   "source": [
    "tut1.get_details()\n"
   ]
  },
  {
   "cell_type": "code",
   "execution_count": null,
   "metadata": {},
   "outputs": [],
   "source": []
  },
  {
   "cell_type": "code",
   "execution_count": 43,
   "metadata": {},
   "outputs": [
    {
     "name": "stdout",
     "output_type": "stream",
     "text": [
      "[]\n"
     ]
    }
   ],
   "source": [
    "print(Tutorial.tutorials)\n",
    "\n"
   ]
  },
  {
   "cell_type": "code",
   "execution_count": 45,
   "metadata": {},
   "outputs": [],
   "source": [
    "for tutorial in Tutorial.tutorials:\n",
    "    if tutorial.course.c_name == \"Django\":\n",
    "        print(tutorial.get_details())"
   ]
  },
  {
   "cell_type": "code",
   "execution_count": 34,
   "metadata": {},
   "outputs": [
    {
     "name": "stdout",
     "output_type": "stream",
     "text": [
      "(1, 'Python basics', 'Operators,Conditional Statements')\n",
      "(2, 'Python loops', 'For,While Loops')\n",
      "(3, 'Python lists', 'Append,Extend,Insert')\n"
     ]
    }
   ],
   "source": [
    "for tutorial in Tutorial.tutorials:\n",
    "    if tutorial.course.author.name == \"ABC\":\n",
    "        print(tutorial.get_details())"
   ]
  },
  {
   "cell_type": "code",
   "execution_count": 48,
   "metadata": {},
   "outputs": [
    {
     "name": "stdout",
     "output_type": "stream",
     "text": [
      "None\n"
     ]
    }
   ],
   "source": [
    "print(Course.check_courses(101))\n"
   ]
  }
 ],
 "metadata": {
  "kernelspec": {
   "display_name": "Python 3",
   "language": "python",
   "name": "python3"
  },
  "language_info": {
   "codemirror_mode": {
    "name": "ipython",
    "version": 3
   },
   "file_extension": ".py",
   "mimetype": "text/x-python",
   "name": "python",
   "nbconvert_exporter": "python",
   "pygments_lexer": "ipython3",
   "version": "3.7.6"
  }
 },
 "nbformat": 4,
 "nbformat_minor": 4
}
