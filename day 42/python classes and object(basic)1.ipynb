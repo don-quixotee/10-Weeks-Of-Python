{
 "cells": [
  {
   "cell_type": "code",
   "execution_count": null,
   "metadata": {},
   "outputs": [],
   "source": []
  },
  {
   "cell_type": "code",
   "execution_count": 27,
   "metadata": {},
   "outputs": [
    {
     "name": "stdout",
     "output_type": "stream",
     "text": [
      "accesing data using object\n",
      "__________________________________________________\n",
      "Abhishek\n",
      "imavicq@gmail.com\n",
      "20\n",
      "__________________________________________________\n",
      "Calling the display function\n",
      "__________________________________________________\n"
     ]
    },
    {
     "data": {
      "text/plain": [
       "('Abhishek',\n",
       " 'Doe',\n",
       " datetime.date(2000, 1, 20),\n",
       " 'brookfield , banglore',\n",
       " '734747XXXX',\n",
       " 'imavicq@gmail.com')"
      ]
     },
     "execution_count": 27,
     "metadata": {},
     "output_type": "execute_result"
    }
   ],
   "source": [
    "import datetime # we will use this for date objects\n",
    "\n",
    "class Person:\n",
    "\n",
    "    def __init__(self, name, surname, birthdate, address, telephone, email):\n",
    "        self.name = name\n",
    "        self.surname = surname\n",
    "        self.birthdate = birthdate\n",
    "\n",
    "        self.address = address\n",
    "        self.telephone = telephone\n",
    "        self.email = email\n",
    "\n",
    "    def age(self):\n",
    "        today = datetime.date.today()\n",
    "        age = today.year - self.birthdate.year\n",
    "\n",
    "        if today < datetime.date(today.year, self.birthdate.month, self.birthdate.day):\n",
    "            age -= 1\n",
    "\n",
    "        return age\n",
    "    \n",
    "    def display(self):\n",
    "        return self.name, self.surname, self.birthdate, self.address, self.telephone, self.email\n",
    "\n",
    "person = Person(\n",
    "    \"Abhishek\",\n",
    "    \"Doe\",\n",
    "    datetime.date(2000, 1, 20), # year, month, day\n",
    "    \"brookfield , banglore\",\n",
    "    \"734747XXXX\",\n",
    "    \"imavicq@gmail.com\"\n",
    ")\n",
    "print(\"accesing data using object\")\n",
    "print(\"_\"*50)\n",
    "print(person.name)\n",
    "print(person.email)\n",
    "print(person.age())\n",
    "person.age()\n",
    "print(\"_\"*50)\n",
    "print(\"Calling the display function\")\n",
    "print(\"_\"*50)\n",
    "\n",
    "person.display()\n",
    "\n"
   ]
  }
 ],
 "metadata": {
  "kernelspec": {
   "display_name": "Python 3",
   "language": "python",
   "name": "python3"
  },
  "language_info": {
   "codemirror_mode": {
    "name": "ipython",
    "version": 3
   },
   "file_extension": ".py",
   "mimetype": "text/x-python",
   "name": "python",
   "nbconvert_exporter": "python",
   "pygments_lexer": "ipython3",
   "version": "3.7.6"
  }
 },
 "nbformat": 4,
 "nbformat_minor": 4
}
