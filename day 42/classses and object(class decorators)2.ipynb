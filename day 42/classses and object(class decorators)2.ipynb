{
 "cells": [
  {
   "cell_type": "code",
   "execution_count": 37,
   "metadata": {},
   "outputs": [
    {
     "ename": "SyntaxError",
     "evalue": "invalid syntax (<ipython-input-37-94803026008c>, line 7)",
     "output_type": "error",
     "traceback": [
      "\u001b[0;36m  File \u001b[0;32m\"<ipython-input-37-94803026008c>\"\u001b[0;36m, line \u001b[0;32m7\u001b[0m\n\u001b[0;31m    self.personlist = []\"\"\"creating a list to store date of objects\"\"\"\u001b[0m\n\u001b[0m                                                                     ^\u001b[0m\n\u001b[0;31mSyntaxError\u001b[0m\u001b[0;31m:\u001b[0m invalid syntax\n"
     ]
    }
   ],
   "source": [
    "class Person:\n",
    "    TITLES = ('Dr', 'Mr', 'Mrs', 'Ms')\n",
    "     \n",
    "    def __init__(self, name, surname):\n",
    "        self.name = name\n",
    "        self.surname = surname\n",
    "        self.personlist = []\"\"\"creating a list to store date of objects\"\"\"\n",
    "        \n",
    "    def display_person(self):\n",
    "        self.personlist.append(self.name)\n",
    "        self.personlist.append(self.surname)\"\"\"adding value to the list\"\"\"\n",
    "        print(self.personlist)\n",
    "        return self.personlist\n",
    "\n",
    "    def fullname(self): # instance method\n",
    "        # instance object accessible through self\n",
    "        return \"%s %s\" % (self.name, self.surname)\n",
    "\n",
    "    @classmethod\n",
    "    def titles_starting_with(cls, startswith): # class method\n",
    "        # class or instance object accessible through cls\n",
    "        return [t for t in cls.TITLES if t.startswith(startswith)]\n",
    "\n",
    "    @staticmethod\n",
    "    def titles_ending_with(endswith): # static method\n",
    "        # no parameter for class or instance object\n",
    "        # we have to use Person directly\n",
    "        return [t for t in Person.TITLES if t.endswith(endswith)]\n",
    "\n",
    "\n",
    "person1 = Person(\"Abhheks\", \"Singh\")\n",
    "person2 = Person(\"kate\", \"upton\")\n",
    "\n",
    "person3 = Person(\"ananya\", \"panday\")\n",
    "person4 = Person(\"sidharth\", \"bains\")\n",
    "person5 = Person(\"priyanka\", \"chopra\")\n",
    "\n",
    "\n",
    "\n",
    "print(person1.fullname())\n",
    "\n",
    "print(person1.titles_starting_with(\"M\"))\n",
    "print(person1.titles_starting_with(\"M\"))\n",
    "\n",
    "print(person1.titles_ending_with(\"s\"))\n",
    "print(person1.titles_ending_with(\"s\"))\n",
    "\n",
    "person2.display_person()"
   ]
  }
 ],
 "metadata": {
  "kernelspec": {
   "display_name": "Python 3",
   "language": "python",
   "name": "python3"
  },
  "language_info": {
   "codemirror_mode": {
    "name": "ipython",
    "version": 3
   },
   "file_extension": ".py",
   "mimetype": "text/x-python",
   "name": "python",
   "nbconvert_exporter": "python",
   "pygments_lexer": "ipython3",
   "version": "3.7.6"
  }
 },
 "nbformat": 4,
 "nbformat_minor": 4
}
