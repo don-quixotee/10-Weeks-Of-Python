{
 "cells": [
  {
   "cell_type": "code",
   "execution_count": 6,
   "metadata": {},
   "outputs": [],
   "source": [
    "import random"
   ]
  },
  {
   "cell_type": "code",
   "execution_count": null,
   "metadata": {},
   "outputs": [
    {
     "name": "stdout",
     "output_type": "stream",
     "text": [
      "\n",
      " Welcome to Guess A number game! Try to guess the randomly generated number. Good Luck :) \n",
      "\n",
      " --> Guess the number <-- 3\n",
      "OO OH! your guess is too low\n",
      "Please try again. you have 4 guesses remaining.\n",
      "\n",
      " --> Guess the number <-- 4\n",
      "OO OH! your guess is too low\n",
      "Please try again. you have 3 guesses remaining.\n",
      "\n",
      " --> Guess the number <-- 3\n",
      "OO OH! your guess is too low\n",
      "Please try again. you have 2 guesses remaining.\n",
      "\n",
      " --> Guess the number <-- 3\n",
      "OO OH! your guess is too low\n",
      "Please try again. you have 1 guesses remaining.\n",
      "\n",
      " --> Guess the number <-- yes\n",
      "Invalid entery. Please try again. \n",
      "\n"
     ]
    }
   ],
   "source": [
    "def checktheGuess(guess, target):\n",
    "    if guess == target:\n",
    "        guesscheck = True\n",
    "        result = \"congratulations you Guessed it right !\"\n",
    "    elif guess > target:\n",
    "        guesscheck = False\n",
    "        result = \"OO OH! your guess is too high\"\n",
    "    else:\n",
    "        guesscheck = False\n",
    "        result = \"OO OH! your guess is too low\"\n",
    "    return guesscheck, result\n",
    "def newGame(low, high, guesCountMax):\n",
    "    randomNum = random.randint(low,high)\n",
    "    guessCount = 0\n",
    "    \n",
    "    while True:\n",
    "        try:\n",
    "            guess = int(input(\" --> Guess the number <-- \"))\n",
    "        except:\n",
    "            print('Invalid entery. Please try again. ')\n",
    "            print()\n",
    "            continue\n",
    "        guessCount = guessCount + 1\n",
    "        \n",
    "        guesscheck, result = checktheGuess(guess, randomNum)\n",
    "        print(result)\n",
    "        if guesscheck:\n",
    "            break\n",
    "        if guessCount == guesCountMax:\n",
    "            print(\" ---->>> Game over :- you're out of the moves :( <<<----- \")\n",
    "            break\n",
    "        print(\"Please try again. you have {} guesses remaining.\".format(guesCountMax - guessCount))\n",
    "        print()\n",
    "            \n",
    "        \n",
    "        \n",
    "def main():\n",
    "    print()\n",
    "    print(\" Welcome to Guess A number game! Try to guess the randomly generated number. Good Luck :) \")\n",
    "    \n",
    "    while True:\n",
    "        print()\n",
    "        newGame(0, 100, 5)\n",
    "        print()\n",
    "        playAgain = input(\"Would you like to play Again: ([Yes/No]): \")\n",
    "        if playAgain.lower() == 'no':\n",
    "            break\n",
    "        print(\"-\"*40)\n",
    "if __name__ == '__main__':\n",
    "    main()\n",
    "        \n",
    "\n",
    "    "
   ]
  }
 ],
 "metadata": {
  "kernelspec": {
   "display_name": "Python 3",
   "language": "python",
   "name": "python3"
  },
  "language_info": {
   "codemirror_mode": {
    "name": "ipython",
    "version": 3
   },
   "file_extension": ".py",
   "mimetype": "text/x-python",
   "name": "python",
   "nbconvert_exporter": "python",
   "pygments_lexer": "ipython3",
   "version": "3.7.6"
  }
 },
 "nbformat": 4,
 "nbformat_minor": 4
}
