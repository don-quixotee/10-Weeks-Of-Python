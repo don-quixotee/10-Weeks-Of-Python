{
 "cells": [
  {
   "cell_type": "code",
   "execution_count": 2,
   "metadata": {},
   "outputs": [
    {
     "name": "stdout",
     "output_type": "stream",
     "text": [
      "Your weight in kilos: 62\n",
      "Your height in meters: 1.7\n",
      "Your BMI is 21.5, that is normal weight.\n"
     ]
    }
   ],
   "source": [
    "def calculate_bmi(weight, height):\n",
    "    \"\"\"\n",
    "    Returns the body mass index\n",
    "    \"\"\"\n",
    "\n",
    "    bmi = weight / height ** 2\n",
    "    bmi = round(bmi, 1)\n",
    "\n",
    "    if bmi <= 18.5:\n",
    "        result = 'underweight.'\n",
    "    elif 18.5 < bmi <= 25:\n",
    "        result = 'normal weight.'\n",
    "    elif 25 < bmi <= 29.9:\n",
    "        result = 'overweight.'\n",
    "    else:\n",
    "        result = 'obesity.'\n",
    "\n",
    "    return f'Your BMI is {bmi}, that is {result}'\n",
    "\n",
    "\n",
    "if __name__ == '__main__':\n",
    "    weight = float(input('Your weight in kilos: '))\n",
    "    height = float(input('Your height in meters: '))\n",
    "    bmi = calculate_bmi(weight, height)\n",
    "    print(bmi)\n"
   ]
  }
 ],
 "metadata": {
  "kernelspec": {
   "display_name": "Python 3",
   "language": "python",
   "name": "python3"
  },
  "language_info": {
   "codemirror_mode": {
    "name": "ipython",
    "version": 3
   },
   "file_extension": ".py",
   "mimetype": "text/x-python",
   "name": "python",
   "nbconvert_exporter": "python",
   "pygments_lexer": "ipython3",
   "version": "3.7.6"
  }
 },
 "nbformat": 4,
 "nbformat_minor": 4
}
