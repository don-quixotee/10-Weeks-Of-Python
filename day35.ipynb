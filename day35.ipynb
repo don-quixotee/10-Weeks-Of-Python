{
 "cells": [
  {
   "cell_type": "markdown",
   "metadata": {},
   "source": [
    "# Map Filter & lambda"
   ]
  },
  {
   "cell_type": "code",
   "execution_count": 3,
   "metadata": {},
   "outputs": [
    {
     "name": "stdout",
     "output_type": "stream",
     "text": [
      "<map object at 0x7f1350582190>\n",
      "[8, 4, 6, 6]\n"
     ]
    }
   ],
   "source": [
    "\"\"\"\n",
    "map accept a function and  variables as paratmeter\n",
    "\"\"\"\n",
    "l = [\"Abhishek\", \"anuj\",\"sanaya\",\"sakshi\"]\n",
    "m = map(len,l)\n",
    "print(m)\n",
    "print(list(m))"
   ]
  },
  {
   "cell_type": "code",
   "execution_count": 5,
   "metadata": {},
   "outputs": [
    {
     "name": "stdout",
     "output_type": "stream",
     "text": [
      "[6, 10, 13, 9, 5, 10]\n"
     ]
    }
   ],
   "source": [
    "\n",
    "#add two list using map\n",
    "def add(n1,n2):\n",
    "    return n1+n2\n",
    "l1 = [2,5,7,4,2,5]\n",
    "l2 = [4,5,6,5,3,5]\n",
    "m = map(add, l1,l2)\n",
    "print(list(m))"
   ]
  },
  {
   "cell_type": "code",
   "execution_count": 7,
   "metadata": {},
   "outputs": [
    {
     "name": "stdout",
     "output_type": "stream",
     "text": [
      "[2, None, None, None, None, 4, 34]\n"
     ]
    }
   ],
   "source": [
    "def iseven(num):\n",
    "    if num%2 ==0:\n",
    "        return num\n",
    "l1 = [2,5,7,67,5,4,34]\n",
    "m = map(iseven, l1)\n",
    "print(list(m))"
   ]
  },
  {
   "cell_type": "markdown",
   "metadata": {},
   "source": [
    "## note:-\n",
    "    map retursn the complete list  id there is no value at hte\n",
    "    perticular index it returns none"
   ]
  },
  {
   "cell_type": "code",
   "execution_count": 11,
   "metadata": {},
   "outputs": [
    {
     "name": "stdout",
     "output_type": "stream",
     "text": [
      "[4, 6, 8, 12, 12]\n"
     ]
    }
   ],
   "source": [
    "#using filter to fix the above problem\n",
    "\n",
    "def iseven(num):\n",
    "    if num%2==0:\n",
    "        return num\n",
    "n = [1,5,4,3,5,5,33,577,7,6,5,41,8,9,12,12]\n",
    "m = filter(iseven, n)\n",
    "print(list(m))"
   ]
  },
  {
   "cell_type": "code",
   "execution_count": 1,
   "metadata": {},
   "outputs": [
    {
     "name": "stdout",
     "output_type": "stream",
     "text": [
      "[6, 28, 496, 8128]\n"
     ]
    }
   ],
   "source": [
    "def perfect(num):\n",
    "    sum = 0\n",
    "    for x in range(1,num):\n",
    "        if num% x ==0:\n",
    "            sum = sum + x\n",
    "    if sum == num:\n",
    "        return True\n",
    "    else:\n",
    "        return False\n",
    "    \n",
    "n = filter(perfect, range(1,10000))\n",
    "print(list(n))"
   ]
  },
  {
   "cell_type": "markdown",
   "metadata": {},
   "source": [
    "# lambda:-"
   ]
  },
  {
   "cell_type": "code",
   "execution_count": 11,
   "metadata": {},
   "outputs": [],
   "source": [
    "#syntax\n",
    "lambda num1 num2, num3: num1+num2"
   ]
  },
  {
   "cell_type": "code",
   "execution_count": 3,
   "metadata": {},
   "outputs": [
    {
     "name": "stdout",
     "output_type": "stream",
     "text": [
      "[100, 400, 900, 100, 900, 3600, 4900]\n"
     ]
    }
   ],
   "source": [
    "l = [10,20,30,10,30,60,70]\n",
    "m = map(lambda num: num **2, l)\n",
    "print(list(m))"
   ]
  },
  {
   "cell_type": "code",
   "execution_count": 14,
   "metadata": {},
   "outputs": [
    {
     "name": "stdout",
     "output_type": "stream",
     "text": [
      "<map object at 0x7f18bc78a190>\n",
      "[2, 8, 12, 10, 7, 5]\n"
     ]
    }
   ],
   "source": [
    "l1 = [1,5,7,4,3,2]\n",
    "l2 = [1,3,5,6,4,3,2]\n",
    "m = map(lambda num1, num2:num1+num2, l1,l2)\n",
    "print(m)\n",
    "print(list(m))"
   ]
  },
  {
   "cell_type": "code",
   "execution_count": 19,
   "metadata": {},
   "outputs": [
    {
     "name": "stdout",
     "output_type": "stream",
     "text": [
      "[11, 33, 55, 77, 99, 111]\n"
     ]
    }
   ],
   "source": [
    "l1 = [1,3,5,7,9,11]\n",
    "l2 = [10, 30, 50, 70, 90, 100]\n",
    "m = map(lambda num1, num2:num1+num2, l1,l2)\n",
    "print(list(m))"
   ]
  },
  {
   "cell_type": "code",
   "execution_count": 24,
   "metadata": {},
   "outputs": [
    {
     "name": "stdout",
     "output_type": "stream",
     "text": [
      "<filter object at 0x7f18bc7b7cd0>\n",
      "[4, 2, 30, 4, 56]\n"
     ]
    }
   ],
   "source": [
    "l1 = [1,5,7,4,3,2,30,4,56,77,81]\n",
    "f = filter(lambda num1 :  num1 % 2 == 0, l1)\n",
    "print(f)\n",
    "print(list(f))"
   ]
  }
 ],
 "metadata": {
  "kernelspec": {
   "display_name": "Python 3",
   "language": "python",
   "name": "python3"
  },
  "language_info": {
   "codemirror_mode": {
    "name": "ipython",
    "version": 3
   },
   "file_extension": ".py",
   "mimetype": "text/x-python",
   "name": "python",
   "nbconvert_exporter": "python",
   "pygments_lexer": "ipython3",
   "version": "3.7.6"
  }
 },
 "nbformat": 4,
 "nbformat_minor": 4
}
