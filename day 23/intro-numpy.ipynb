{
 "cells": [
  {
   "cell_type": "markdown",
   "metadata": {},
   "source": [
    "# Python Numpy\n",
    "Numpy is a general-purpose array-processing package. \n",
    "It provides a high-performance multidimensional array \n",
    "object, and tools for working with these arrays"
   ]
  },
  {
   "cell_type": "markdown",
   "metadata": {},
   "source": [
    "# Creating a Numpy Array:\n",
    "    Arrays in Numpy can be created by multiple ways, with various number of Ranks, defining     the\n",
    "    size of the Array.\n",
    "## Note: \n",
    "    Type of array can be explicitly defined while creating the array."
   ]
  },
  {
   "cell_type": "code",
   "execution_count": 18,
   "metadata": {},
   "outputs": [
    {
     "name": "stdout",
     "output_type": "stream",
     "text": [
      "An array with Rank 1: \n",
      " [1 2 3]\n",
      " an array with Rank 2: \n",
      " [[1 2 3]\n",
      " [4 5 6]]\n",
      "\n",
      " an array created using passed tuple:\n",
      " [1 3 2]\n",
      "\n",
      " an arry of dictionary:\n",
      " [{1, 3, 5} {2, 3, 4} {4, 5, 6}]\n",
      "<class 'numpy.ndarray'>\n"
     ]
    }
   ],
   "source": [
    "\"\"\"\n",
    " Python program for Creation of Arrays\n",
    "\"\"\"\n",
    "import numpy as np\n",
    " \n",
    "# A rank 1 Array\n",
    "a1 = np.array([1, 2, 3])\n",
    "print(\"An array with Rank 1: \\n\",a1)\n",
    " \n",
    "# A rank 2 Array\n",
    "a2 = np.array([[1, 2, 3],\n",
    "                [4, 5, 6]])\n",
    "print(\" an array with Rank 2: \\n\", a2)\n",
    " \n",
    "# Creating an array from tuple\n",
    "a3 = np.array((1, 3, 2))\n",
    "print(\"\\n an array created using \"\n",
    "      \"passed tuple:\\n\", a3)\n",
    "a4 = np.array([{1,3,5},\n",
    "             {2,3,4},\n",
    "             {4,5,6}])\n",
    "# an array made from dictionary\n",
    "print(\"\\n an arry of dictionary:\\n\", a4)\n",
    "print(type(a4))\n"
   ]
  },
  {
   "cell_type": "code",
   "execution_count": 30,
   "metadata": {},
   "outputs": [
    {
     "name": "stdout",
     "output_type": "stream",
     "text": [
      "[[1 2 3]\n",
      " [4 5 6]]\n",
      "\n",
      " [[1 0 4]\n",
      " [3 6 7]]\n",
      "\n",
      " [[ 2  2  7]\n",
      " [ 7 11 13]]\n",
      "\n",
      " [[ 0  2 -1]\n",
      " [ 1 -1 -1]]\n",
      "enter the number you want to add10\n",
      "\n",
      " [[11 12 13]\n",
      " [14 15 16]]\n"
     ]
    }
   ],
   "source": [
    "a1 = np.array([[1,2,3],\n",
    "             [4,5,6]])\n",
    "print(a1)\n",
    "a2 = np.array([[1,0,4],\n",
    "              [3,6,7]])\n",
    "print('\\n', a2)\n",
    "\n",
    "# addition on two numpy operation\n",
    "print('\\n',a1+a2)\n",
    "\n",
    "#subtraction of two numpy array\n",
    "print('\\n', a1- a2)\n",
    "\n",
    "# adding a given element to every element of the array\n",
    "\n",
    "print('\\n', a1+(int(input(\"enter the number you want to add\"))))\n",
    "\n"
   ]
  },
  {
   "cell_type": "code",
   "execution_count": null,
   "metadata": {},
   "outputs": [],
   "source": []
  }
 ],
 "metadata": {
  "kernelspec": {
   "display_name": "Python 3",
   "language": "python",
   "name": "python3"
  },
  "language_info": {
   "codemirror_mode": {
    "name": "ipython",
    "version": 3
   },
   "file_extension": ".py",
   "mimetype": "text/x-python",
   "name": "python",
   "nbconvert_exporter": "python",
   "pygments_lexer": "ipython3",
   "version": "3.6.5"
  }
 },
 "nbformat": 4,
 "nbformat_minor": 2
}
