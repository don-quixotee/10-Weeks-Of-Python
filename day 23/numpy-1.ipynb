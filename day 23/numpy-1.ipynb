{
 "cells": [
  {
   "cell_type": "markdown",
   "metadata": {},
   "source": [
    "#  Array indexing\n",
    "     Numpy offers several ways to index into arrays.\n",
    "\n",
    "     Slicing: Similar to Python lists, numpy arrays can be sliced. Since arrays may be\n",
    "     multidimensional, you must specify a slice for each dimension of the array:"
   ]
  },
  {
   "cell_type": "code",
   "execution_count": 4,
   "metadata": {},
   "outputs": [
    {
     "name": "stdout",
     "output_type": "stream",
     "text": [
      "[[ 1  2  3  4]\n",
      " [ 5  6  7  8]\n",
      " [ 9 10 11 12]] \n",
      "\n",
      "new sub Array:\n",
      "[[2 3]\n",
      " [6 7]]\n"
     ]
    }
   ],
   "source": [
    "import numpy as np\n",
    "\n",
    "a = np.array([[1,2,3,4], [5,6,7,8], [9,10,11,12]])\n",
    "print(a,'\\n')\n",
    "\n",
    "#using slicing to create a subArray\n",
    "print(\"new sub Array:\")\n",
    "b = a[:2, 1:3]\n",
    "print(b)\n",
    "\n"
   ]
  },
  {
   "cell_type": "markdown",
   "metadata": {},
   "source": [
    " \n",
    "    A slice of an array is a view into the same data, so modifying it will modify the\n",
    "    original array.\n",
    "\n"
   ]
  },
  {
   "cell_type": "code",
   "execution_count": 16,
   "metadata": {},
   "outputs": [
    {
     "name": "stdout",
     "output_type": "stream",
     "text": [
      "77\n",
      "printing b[0,0] \n",
      "\n",
      "printing a[0,1]\n",
      "77\n"
     ]
    },
    {
     "data": {
      "text/plain": [
       "'b[0, 0] is the same piece of data as a[0, 1]'"
      ]
     },
     "execution_count": 16,
     "metadata": {},
     "output_type": "execute_result"
    }
   ],
   "source": [
    "\n",
    "# print(a[0, 1])  \n",
    "# print(\"printing b[0,0]\", '\\n')\n",
    "# b[0, 0] = 77    \n",
    "# print(\"printing a[0,1]\")\n",
    "# print(a[0, 1])\n",
    "\n",
    "# \"\"\"b[0, 0] is the same piece of data as a[0, 1]\"\"\""
   ]
  },
  {
   "cell_type": "markdown",
   "metadata": {},
   "source": [
    "\n",
    "#    \n",
    "    You can also mix integer indexing with slice indexing. However, doing so will yield \n",
    "    an array of lower rank than the original array. \n",
    "## Note:-\n",
    "     that this is quite different from the way that MATLAB handles array slicing:"
   ]
  },
  {
   "cell_type": "code",
   "execution_count": 5,
   "metadata": {},
   "outputs": [
    {
     "name": "stdout",
     "output_type": "stream",
     "text": [
      "[[ 1  2  3  4]\n",
      " [ 5  6  7  8]\n",
      " [ 9 10 11 12]]\n"
     ]
    },
    {
     "data": {
      "text/plain": [
       "'creating An Array of shape (3,4)'"
      ]
     },
     "execution_count": 5,
     "metadata": {},
     "output_type": "execute_result"
    }
   ],
   "source": [
    "a = np.array([[1,2,3,4], [5,6,7,8], [9,10,11,12]])\n",
    "print(a)\n",
    "\"\"\"creating An Array of shape (3,4)\"\"\""
   ]
  },
  {
   "cell_type": "markdown",
   "metadata": {},
   "source": [
    "###### Two ways of accessing the data in the middle row of the array.\n",
    "     Mixing integer indexing with slices yields an array of lower rank, \n",
    "     while using only slices yields an array of the same rank as the original array:"
   ]
  },
  {
   "cell_type": "code",
   "execution_count": 37,
   "metadata": {},
   "outputs": [
    {
     "name": "stdout",
     "output_type": "stream",
     "text": [
      "row1\n",
      "[5 6 7 8] (4,)\n",
      "row2\n",
      "[[5 6 7 8]] (1, 4)\n",
      "row3\n",
      "[[5 6 7 8]] (1, 4)\n",
      "\n",
      " main array\n",
      "[[ 1  2  3  4]\n",
      " [ 5  6  7  8]\n",
      " [ 9 10 11 12]] (3, 4)\n"
     ]
    }
   ],
   "source": [
    "print(\"row1\")\n",
    "row1 = a[1,:]\n",
    "print(row1, row1.shape)\n",
    "\n",
    "print(\"row2\")\n",
    "row2 = a[1 :2, :]\n",
    "print(row2, row2.shape)\n",
    "\n",
    "row = a[[2],  :]\n",
    "print(\"row3\")\n",
    "print(row2, row2.shape)\n",
    "\n",
    "print('\\n',\"main array\")\n",
    "print(a, a.shape)\n"
   ]
  },
  {
   "cell_type": "code",
   "execution_count": 38,
   "metadata": {},
   "outputs": [
    {
     "name": "stdout",
     "output_type": "stream",
     "text": [
      "[ 2  6 10] (3,)\n",
      "\n",
      "[[ 2]\n",
      " [ 6]\n",
      " [10]] (3, 1)\n"
     ]
    }
   ],
   "source": [
    "# We can make the same distinction when accessing columns of an array:\n",
    "col1 = a[:, 1]\n",
    "col2 = a[:, 1:2]\n",
    "print(col1, col1.shape)\n",
    "print()\n",
    "print(col2, col2.shape)"
   ]
  },
  {
   "cell_type": "markdown",
   "metadata": {},
   "source": [
    "# Integer array indexing: \n",
    "      When you index into numpy arrays using slicing, the resulting array view will \n",
    "      always be a subarray of the original array. In contrast, integer array indexing\n",
    "      allows you to construct arbitrary arrays using the data from another array. \n",
    "    "
   ]
  },
  {
   "cell_type": "code",
   "execution_count": 52,
   "metadata": {},
   "outputs": [
    {
     "name": "stdout",
     "output_type": "stream",
     "text": [
      "[1 4 5]\n",
      "[1 4 5]\n"
     ]
    }
   ],
   "source": [
    "a = np.array([[1,2], [3, 4], [5, 6]])\n",
    "\n",
    "\"\"\"An example of integer array indexing.\n",
    " The returned array will have shape (3,) \"\"\"\n",
    "\n",
    "print(a[[0, 1, 2], [0, 1, 0]])\n",
    "\n",
    "\"\"\"The above example of integer array indexing is equivalent to this:\"\"\"\n",
    "print(np.array([a[0, 0], a[1, 1], a[2, 0]]))"
   ]
  },
  {
   "cell_type": "code",
   "execution_count": 61,
   "metadata": {},
   "outputs": [
    {
     "name": "stdout",
     "output_type": "stream",
     "text": [
      "[2 2]\n",
      "[2 2]\n"
     ]
    }
   ],
   "source": [
    "\"\"\" \n",
    " When using integer array indexing, you can reuse the same\n",
    "element from the source array:\n",
    "\"\"\"\n",
    "print(a[[0, 0], [1, 1]])\n",
    "\n",
    "# Equivalent to the previous integer array indexing example\n",
    "print(np.array([a[0, 1], a[0, 1]]))"
   ]
  }
 ],
 "metadata": {
  "kernelspec": {
   "display_name": "Python 3",
   "language": "python",
   "name": "python3"
  },
  "language_info": {
   "codemirror_mode": {
    "name": "ipython",
    "version": 3
   },
   "file_extension": ".py",
   "mimetype": "text/x-python",
   "name": "python",
   "nbconvert_exporter": "python",
   "pygments_lexer": "ipython3",
   "version": "3.6.5"
  }
 },
 "nbformat": 4,
 "nbformat_minor": 2
}
