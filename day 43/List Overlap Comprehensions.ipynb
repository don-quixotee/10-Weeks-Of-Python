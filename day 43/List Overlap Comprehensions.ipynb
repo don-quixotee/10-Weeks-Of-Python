{
 "cells": [
  {
   "cell_type": "code",
   "execution_count": null,
   "metadata": {},
   "outputs": [],
   "source": [
    "take two lists, say for example these two:\n",
    "\n",
    "\ta = [1, 1, 2, 3, 5, 8, 13, 21, 34, 55, 89]\n",
    "\tb = [1, 2, 3, 4, 5, 6, 7, 8, 9, 10, 11, 12, 13]\n",
    "and write a program that returns a list that contains only the elements that are common between the lists (without duplicates). Make sure your program works on two lists of different sizes. Write this using at least one list comprehension.\n",
    "\n",
    "Extra:\n",
    "\n",
    "Randomly generate two lists to test this\n"
   ]
  },
  {
   "cell_type": "code",
   "execution_count": 98,
   "metadata": {},
   "outputs": [
    {
     "name": "stdout",
     "output_type": "stream",
     "text": [
      "[10, 45, 94]\n"
     ]
    }
   ],
   "source": [
    "import random\n",
    "l1 = []\n",
    "l2 = []\n",
    "for i in range(12):\n",
    "    l1.append(random.randrange(1,100))\n",
    "    l2.append(random.randrange(1,100))\n",
    "print(list(set([x for x in l1  if  x in l2] )))"
   ]
  }
 ],
 "metadata": {
  "kernelspec": {
   "display_name": "Python 3",
   "language": "python",
   "name": "python3"
  },
  "language_info": {
   "codemirror_mode": {
    "name": "ipython",
    "version": 3
   },
   "file_extension": ".py",
   "mimetype": "text/x-python",
   "name": "python",
   "nbconvert_exporter": "python",
   "pygments_lexer": "ipython3",
   "version": "3.7.6"
  }
 },
 "nbformat": 4,
 "nbformat_minor": 4
}
