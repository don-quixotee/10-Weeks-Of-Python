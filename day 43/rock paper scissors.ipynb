{
 "cells": [
  {
   "cell_type": "code",
   "execution_count": null,
   "metadata": {},
   "outputs": [],
   "source": [
    "Make a two-player Rock-Paper-Scissors game. \n",
    "(Hint: Ask for player plays (using input), \n",
    " compare them, print out a message of congratulations\n",
    " to the winner, and ask if the players want to start a new game)\n",
    "\n",
    "Remember the rules:\n",
    "\n",
    "Rock beats scissors\n",
    "Scissors beats paper\n",
    "Paper beats rock"
   ]
  },
  {
   "cell_type": "code",
   "execution_count": null,
   "metadata": {},
   "outputs": [],
   "source": [
    "i am more inclined to bloackchain ,  i am loving python and trying to lean it everyday abut at the end i cnt do all at the same time \n",
    ". so if i take a job as django developer .would it be difficult for me to move to blockchain field later in my career."
   ]
  },
  {
   "cell_type": "code",
   "execution_count": 5,
   "metadata": {},
   "outputs": [
    {
     "name": "stdout",
     "output_type": "stream",
     "text": [
      "welcome to the rock paper scissors Game\n",
      "enter player 1 name:-  a\n",
      "enter player 2 name:-  k\n",
      "----------------------------------------\n",
      "hello a And hello k\n",
      "----------------------------------------\n",
      "________________________________________\n",
      "Press:- \n",
      " 1.for rock \n",
      " 2.for scissor  \n",
      " 3. for paper\n",
      "a, Enter choice:-  1\n",
      "k, Enter choice:-  3\n",
      "----------------------------------------\n",
      "k wins!\n"
     ]
    }
   ],
   "source": [
    "import sys ,time\n",
    "print(\"welcome to the rock paper scissors Game\")\n",
    "user1 = input(\"enter player 1 name:-  \")\n",
    "user2 = input(\"enter player 2 name:-  \")\n",
    "print('-'*40)\n",
    "print(\"hello {} And hello {}\".format(user1,user2) )\n",
    "print(\"-\"*40)\n",
    "\n",
    "print(\"_\"*40)\n",
    "time.sleep(0.8)\n",
    "print(\"Press:- \\n 1.for rock \\n 2.for scissor  \\n 3. for paper\")\n",
    "time.sleep(0.1)\n",
    "user1Answer = input(\"%s, Enter choice:-  \"%user1)\n",
    "user2Answer = input(\"%s, Enter choice:-  \"%user2)\n",
    "print(\"-\"*40)\n",
    "      \n",
    "def game(u1,u2, user1, user2):\n",
    "    if u1 == u2:\n",
    "        return(\"It's a tie!\")\n",
    "    elif u1 == '1':\n",
    "        if u2 == '2':\n",
    "            return(\"%s wins!\" %user1)\n",
    "        else:\n",
    "            return(\"%s wins!\" %user2)\n",
    "    elif u1 == '2':\n",
    "        if u2 == '3':\n",
    "            return(\"%s win!\"%user1)\n",
    "        else:\n",
    "            return(\"%s wins!\"%user2)\n",
    "    elif u1 == '3':\n",
    "        if u2 == '1':\n",
    "            return(\"%s wins!\" %user1)\n",
    "        else:\n",
    "            return(\"%s win!\" %user2)\n",
    "    else:\n",
    "        return(\"Invalid input! You have not entered rock, paper or scissors, try again.\")\n",
    "        sys.exit()\n",
    "print(game(user1Answer, user2Answer, user1, user2))\n"
   ]
  }
 ],
 "metadata": {
  "kernelspec": {
   "display_name": "Python 3",
   "language": "python",
   "name": "python3"
  },
  "language_info": {
   "codemirror_mode": {
    "name": "ipython",
    "version": 3
   },
   "file_extension": ".py",
   "mimetype": "text/x-python",
   "name": "python",
   "nbconvert_exporter": "python",
   "pygments_lexer": "ipython3",
   "version": "3.6.5"
  }
 },
 "nbformat": 4,
 "nbformat_minor": 4
}
