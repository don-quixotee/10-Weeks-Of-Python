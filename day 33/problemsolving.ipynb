{
 "cells": [
  {
   "cell_type": "markdown",
   "metadata": {},
   "source": [
    "\n",
    "# Morgans Formula In Algebra Set operations\n",
    "number(set A) + number(set B) - number(set A interaction B)\n",
    "n(a)+ n(b) - n(anb)\n",
    "you can add sets or increase the number elements of sets The formula still works\n"
   ]
  },
  {
   "cell_type": "code",
   "execution_count": 1,
   "metadata": {},
   "outputs": [
    {
     "name": "stdout",
     "output_type": "stream",
     "text": [
      "17 = 17\n"
     ]
    }
   ],
   "source": [
    "a = { 1 , 23 , 55 , 76 , 13 , 90 , 34 , 78 }\n",
    "b = { 12 , 345 , 8 , 4 , 0 , 7 , 4 , 3 , 53 , 4 , 6 , 3 }\n",
    "\n",
    "abInteraction = a & b      # & operator interacts two sets\n",
    "abUnion = a | b    # | operator makes union of two sets\n",
    "\n",
    "eqn = len(a) + len(b) - len(abInteraction)\n",
    "print(str(eqn) + ' = ' + str(len(abUnion)))\n"
   ]
  },
  {
   "cell_type": "markdown",
   "metadata": {},
   "source": [
    "# This method is called exhaustive numeration!\n",
    "     I am checking every possible value\n",
    "     that can be root of given x systematically\n",
    "     Kinda brute forcing\n"
   ]
  },
  {
   "cell_type": "code",
   "execution_count": 7,
   "metadata": {},
   "outputs": [
    {
     "name": "stdout",
     "output_type": "stream",
     "text": [
      "enter the number to checked: 20\n"
     ]
    },
    {
     "data": {
      "text/plain": [
       "'20 is not a perfect number'"
      ]
     },
     "execution_count": 7,
     "metadata": {},
     "output_type": "execute_result"
    }
   ],
   "source": [
    "def cubeRoot(num):\n",
    "    croot = None\n",
    "    for i  in range(1, num):\n",
    "        if i**3 == num:\n",
    "            return i\n",
    "    return \"{} is not a perfect number\".format(num)\n",
    "num = int(input(\"enter the number to checked: \"))\n",
    "cubeRoot(num)"
   ]
  }
 ],
 "metadata": {
  "kernelspec": {
   "display_name": "Python 3",
   "language": "python",
   "name": "python3"
  },
  "language_info": {
   "codemirror_mode": {
    "name": "ipython",
    "version": 3
   },
   "file_extension": ".py",
   "mimetype": "text/x-python",
   "name": "python",
   "nbconvert_exporter": "python",
   "pygments_lexer": "ipython3",
   "version": "3.7.6"
  }
 },
 "nbformat": 4,
 "nbformat_minor": 4
}
