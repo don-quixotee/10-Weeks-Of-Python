{
 "cells": [
  {
   "cell_type": "markdown",
   "metadata": {},
   "source": [
    "# tic-tac-toe Game:-\n",
    "     implemention for a dummy tic-tac-toe game program using\n",
    "     Dictionaries"
   ]
  },
  {
   "cell_type": "markdown",
   "metadata": {},
   "source": [
    "# ##  steps:-\n",
    "    theBoard = {'top-L': ' ', 'top-M': ' ', 'top-R': ' ',\n",
    "    'mid-L': ' ', 'mid-M': ' ', 'mid-R': ' ',\n",
    "    'low-L': ' ', 'low-M': ' ', 'low-R': ' '}\n",
    "\n",
    "\n",
    "    \"\"\" hardcoding the possibl position  for the moves on a tic tac toe board\"\"\""
   ]
  },
  {
   "cell_type": "markdown",
   "metadata": {},
   "source": [
    "    # def printBoard(board):\n",
    "        print(board['top-L'] + '|' + board['top-M'] + '|' + board['top-R'])\n",
    "        print('-+-+-')\n",
    "        print(board['mid-L'] + '|' + board['mid-M'] + '|' + board['mid-R'])\n",
    "        print('-+-+-')\n",
    "        print(board['low-L'] + '|' + board['low-M'] + '|' + board['low-R'])\n",
    "     printBoard(theBoard)"
   ]
  },
  {
   "cell_type": "markdown",
   "metadata": {},
   "source": [
    "  ## printing the board\n",
    "     | | \n",
    "    -+-+-\n",
    "     | | \n",
    "    -+-+-\n",
    "     | |  "
   ]
  },
  {
   "cell_type": "markdown",
   "metadata": {},
   "source": [
    "     #  theBoard = {'top-L': 'O', 'top-M': 'O', 'top-R': 'O', 'mid-L': 'X', 'mid-M':\n",
    "        'X', 'mid-R': ' ', 'low-L': ' ', 'low-M': ' ', 'low-R': 'X'}\n",
    "        def printBoard(board):\n",
    "            print(board['top-L'] + '|' + board['top-M'] + '|' + board['top-R'])\n",
    "            print('-+-+-')\n",
    "            print(board['mid-L'] + '|' + board['mid-M'] + '|' + board['mid-R'])\n",
    "            print('-+-+-')\n",
    "            print(board['low-L'] + '|' + board['low-M'] + '|' + board['low-R'])\n",
    "        printBoard(theBoard)\n",
    "        \n",
    "        \n",
    "        \n",
    "        \n",
    "        \n",
    "        O|O|O\n",
    "        -+-+-\n",
    "        X|X| \n",
    "        -+-+-\n",
    "         | |X\n"
   ]
  },
  {
   "cell_type": "code",
   "execution_count": null,
   "metadata": {},
   "outputs": [],
   "source": [
    "\n",
    "theBoard = {'top-L': ' ', 'top-M': ' ', 'top-R': ' ', 'mid-L': ' ', 'mid-M': '\n",
    "', 'mid-R': ' ', 'low-L': ' ', 'low-M': ' ', 'low-R': ' '}\n",
    "            \n",
    "def printBoard(board):\n",
    "    print(board['top-L'] + '|'+ board['top-M'] + '|' + board['top-R'])\n",
    "    print('-+-+-')\n",
    "    print(board['mid-L'] + '|'+ board['mid-M'] + '|' + board['mid-R'])\n",
    "    print('-+-+-')\n",
    "    print(board['low-L'] + '|'+ board['low-M'] + '|' + board['low-R'])\n",
    "turn = 'X'\n",
    "for i in range(9):\n",
    "    printBoard(theBoard)\n",
    "    print('Turn for ' + turn +'. Move on which space?')\n",
    "    move = input()\n",
    "    theBoard[move] = turn\n",
    "    if turn == 'X':\n",
    "        turn = 'O'\n",
    "    else:\n",
    "        turn = 'X'\n",
    "printBoard(theBoard)\n"
   ]
  },
  {
   "cell_type": "markdown",
   "metadata": {},
   "source": [
    "\n",
    "\n",
    "\n",
    "\n",
    "\n",
    "\n",
    "\n",
    "# pattern matching with regular expresssion\n",
    "\n",
    "\n",
    "\n",
    "\n",
    "\n",
    "\n"
   ]
  },
  {
   "cell_type": "code",
   "execution_count": null,
   "metadata": {},
   "outputs": [],
   "source": [
    "def isPhoneNumber(text):\n",
    "    if len(text) != 12:\n",
    "        return False\n",
    "    for i in range(0, 3):\n",
    "        if not text[i].isdecimal():\n",
    "            return False\n",
    "    if text[3] != '-':\n",
    "        return False\n",
    "    for i in range(4, 7):\n",
    "    if not text[i].isdecimal():\n",
    "    return False\n",
    "    if text[7] != '-':\n",
    "    return False\n",
    "    for i in range(8, 12):\n",
    "    if not text[i].isdecimal():\n",
    "    return False\n",
    "    return True\n",
    "print('415-555-4242 is a phone number:')\n",
    "print(isPhoneNumber('415-555-4242'))\n",
    "print('Moshi moshi is a phone number:')\n",
    "print(isPhoneNumber('Moshi moshi'))"
   ]
  }
 ],
 "metadata": {
  "kernelspec": {
   "display_name": "Python 3",
   "language": "python",
   "name": "python3"
  },
  "language_info": {
   "codemirror_mode": {
    "name": "ipython",
    "version": 3
   },
   "file_extension": ".py",
   "mimetype": "text/x-python",
   "name": "python",
   "nbconvert_exporter": "python",
   "pygments_lexer": "ipython3",
   "version": "3.7.6"
  }
 },
 "nbformat": 4,
 "nbformat_minor": 4
}
