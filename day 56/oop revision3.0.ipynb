{
 "cells": [
  {
   "cell_type": "markdown",
   "metadata": {},
   "source": [
    "# Abstraction:\n",
    "    hiding the internal details and show only functionality\n",
    "    \n",
    "\n",
    "        "
   ]
  },
  {
   "cell_type": "markdown",
   "metadata": {},
   "source": [
    "# Abdtract class:\n",
    "    class with more than one oabstraction Abstract class cannot be initiated,\n",
    "    they require subclasses to provide implementation for abstract methods\n",
    "\n",
    "# Abstract method:\n",
    "    method declared but countaining to implementation\n"
   ]
  },
  {
   "cell_type": "code",
   "execution_count": 7,
   "metadata": {},
   "outputs": [],
   "source": [
    "class Shape:\n",
    "    def area(self):\n",
    "        pass\n",
    "    def perimeter(Self):\n",
    "        pass\n",
    "class Square(Shape):\n",
    "    def __init__(self, side):\n",
    "        self.side =side\n",
    "        \n",
    "\n",
    "myshape = Shape()\n",
    "        "
   ]
  },
  {
   "cell_type": "raw",
   "metadata": {},
   "source": [
    "so fare we have only done inheritence, "
   ]
  },
  {
   "cell_type": "code",
   "execution_count": 16,
   "metadata": {},
   "outputs": [
    {
     "name": "stdout",
     "output_type": "stream",
     "text": [
      "Area      : 100\n",
      "perimeter : 40\n"
     ]
    }
   ],
   "source": [
    "from abc import ABC, abstractmethod\n",
    "\n",
    "class Shape(ABC):\n",
    "    \n",
    "    @abstractmethod\n",
    "    def area(self):\n",
    "        pass\n",
    "    \n",
    "    @abstractmethod\n",
    "    def perimeter(self):\n",
    "        pass\n",
    "    \n",
    "    \n",
    "class Square(Shape):\n",
    "    def __init__(self, side):\n",
    "        self.__side =side\n",
    "        \n",
    "        \n",
    "    def area(self):\n",
    "        return self.__side * self.__side\n",
    "    \n",
    "    def perimeter(self):\n",
    "        return 4 * self.__side\n",
    "        \n",
    "\n",
    "myshape = Square(10)\n",
    "print(\"Area      : {}\".format(myshape.area()))\n",
    "print(\"perimeter : {}\".format(myshape.perimeter()))"
   ]
  },
  {
   "cell_type": "markdown",
   "metadata": {},
   "source": [
    "# Abhishek singh"
   ]
  }
 ],
 "metadata": {
  "kernelspec": {
   "display_name": "Python 3",
   "language": "python",
   "name": "python3"
  },
  "language_info": {
   "codemirror_mode": {
    "name": "ipython",
    "version": 3
   },
   "file_extension": ".py",
   "mimetype": "text/x-python",
   "name": "python",
   "nbconvert_exporter": "python",
   "pygments_lexer": "ipython3",
   "version": "3.7.6"
  }
 },
 "nbformat": 4,
 "nbformat_minor": 4
}
