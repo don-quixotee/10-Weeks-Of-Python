{
 "cells": [
  {
   "cell_type": "markdown",
   "metadata": {},
   "source": [
    "\n",
    "\n",
    "# 28th march 2020\n",
    "### Author: Abhishek singh\n",
    "### topics:  -inheritance,\n",
    "         -super()function,\n",
    "         -multiple inheritance, \n",
    "         -overridding,\n",
    "         -mixin class"
   ]
  },
  {
   "cell_type": "code",
   "execution_count": 4,
   "metadata": {},
   "outputs": [],
   "source": [
    "class ContactList(list):\n",
    "    def search(self, name):\n",
    "        ''' return thr contacts which contaian search values into their name '''\n",
    "        matching_contacts = []\n",
    "        for contact in self:\n",
    "            if name in contact.name:\n",
    "                matching_contacts.append(contact)\n",
    "        return matching_contacts\n",
    "    "
   ]
  },
  {
   "cell_type": "code",
   "execution_count": 5,
   "metadata": {},
   "outputs": [],
   "source": [
    "class Contact:\n",
    "    all_contacts = ContactList()\n",
    "\n",
    "    def __init__(self, name , email):\n",
    "        self.name = name\n",
    "        self.email = email\n",
    "        self.all_contacts.append(self)\n",
    "\n"
   ]
  },
  {
   "cell_type": "code",
   "execution_count": 6,
   "metadata": {},
   "outputs": [
    {
     "name": "stdout",
     "output_type": "stream",
     "text": [
      "['abhi']\n"
     ]
    }
   ],
   "source": [
    "\n",
    "\n",
    "c1 = Contact(\"abhi\", \"abc@gmail.com\") #test data\n",
    "c2 = Contact(\"shek\", \"gmail@gmail.com\") #test data\n",
    "\n",
    "print([c.name for c in Contact.all_contacts.search('abhi')]) #test data"
   ]
  },
  {
   "cell_type": "markdown",
   "metadata": {},
   "source": [
    "# lets create a class where we can  add new behavior to the existing class\n"
   ]
  },
  {
   "cell_type": "markdown",
   "metadata": {},
   "source": [
    "# class Friend(Contact):\n",
    "    def __init__(self, name, email, phone):\n",
    "        self.name = name\n",
    "        self.email = email\n",
    "        self.phone = phone"
   ]
  },
  {
   "cell_type": "markdown",
   "metadata": {},
   "source": [
    "# this we we are using duplicate code in friend class as we have this in parent Contact class\n",
    "so whats the fun of using inheritance if we cannot call the name and email from the parent class??\n",
    "in order to do so we need  super() function which allows us to call the codes from parent class directly into the \n",
    "chile class \n",
    "\n",
    "## method overriding and super() function"
   ]
  },
  {
   "cell_type": "code",
   "execution_count": 7,
   "metadata": {},
   "outputs": [],
   "source": [
    "# class Friend(Contact):\n",
    "#     def __init__(self, name, email, phone):\n",
    "#         super().__init__(name, email)\n",
    "#         self.phone = phone"
   ]
  },
  {
   "cell_type": "markdown",
   "metadata": {},
   "source": [
    "# note:-\n",
    "    -super classs can be made inside any mathod not just __init__\n",
    "    -the call to super method can be made any point in the method \n",
    "    it doesnt need to be in the first line \n",
    "    "
   ]
  },
  {
   "cell_type": "markdown",
   "metadata": {},
   "source": [
    "# not lets create a mail sender class to add some more funcionality to our program"
   ]
  },
  {
   "cell_type": "code",
   "execution_count": 8,
   "metadata": {},
   "outputs": [],
   "source": [
    "class Mailsender:\n",
    "    def send_mail(self, message):\n",
    "        print(\"sending email to \" + self.email)"
   ]
  },
  {
   "cell_type": "markdown",
   "metadata": {},
   "source": [
    "#\n",
    "we if we notice the mail sender class actually doesnt do anything \n",
    "snice its not haaving much functionality or havent inherited any class\n",
    "its doing limeited operation but in order to  add a class for mail operation\n",
    "inherit mailsender class to a new class which would also inherit contact class \n",
    "this technique is called multiple inheritance.\n",
    "## Note:\n",
    "     it is not advised to use multiple inheritance when we create a real time\n",
    "     project as it becomes complex to handle and can create confusion and ambiguty\n",
    "\n"
   ]
  },
  {
   "cell_type": "code",
   "execution_count": 9,
   "metadata": {},
   "outputs": [],
   "source": [
    "class Emailablecontact(Contact,Mailsender):\n",
    "    pass# mixin class"
   ]
  },
  {
   "cell_type": "code",
   "execution_count": 29,
   "metadata": {},
   "outputs": [
    {
     "name": "stdout",
     "output_type": "stream",
     "text": [
      "sending email to imavicq@gmail.com\n"
     ]
    }
   ],
   "source": [
    "e = Emailablecontact(\"abhsihek \", \"imavicq@gmail.com\")\n",
    "Contact.all_contacts\n",
    "e.send_mail(\"hello, test email here\")"
   ]
  },
  {
   "cell_type": "code",
   "execution_count": 32,
   "metadata": {},
   "outputs": [],
   "source": [
    "class AddressHolder:\n",
    "    def  __init__(self, street, city, state, code ):\n",
    "        self.street = street\n",
    "        self.city = city\n",
    "        self.state = state\n",
    "        self.code = code\n",
    "        \n",
    "        "
   ]
  },
  {
   "cell_type": "code",
   "execution_count": 33,
   "metadata": {},
   "outputs": [],
   "source": [
    "class Friend(Contact, AddressHolder):\n",
    "    def __init__(self, name, email, phone, street, city, state, code):\n",
    "        Contact.__init__(name, email)\n",
    "        AddressHolder. __init__(self, street, city, state, code)\n",
    "        self.phone = phone"
   ]
  },
  {
   "cell_type": "code",
   "execution_count": null,
   "metadata": {},
   "outputs": [],
   "source": [
    "here we are directly calling the both super class and explicitly passing the argument\n",
    "which is actully working but it is not a good approach"
   ]
  },
  {
   "cell_type": "code",
   "execution_count": null,
   "metadata": {},
   "outputs": [],
   "source": []
  },
  {
   "cell_type": "code",
   "execution_count": null,
   "metadata": {},
   "outputs": [],
   "source": []
  }
 ],
 "metadata": {
  "kernelspec": {
   "display_name": "Python 3",
   "language": "python",
   "name": "python3"
  },
  "language_info": {
   "codemirror_mode": {
    "name": "ipython",
    "version": 3
   },
   "file_extension": ".py",
   "mimetype": "text/x-python",
   "name": "python",
   "nbconvert_exporter": "python",
   "pygments_lexer": "ipython3",
   "version": "3.7.6"
  }
 },
 "nbformat": 4,
 "nbformat_minor": 4
}
