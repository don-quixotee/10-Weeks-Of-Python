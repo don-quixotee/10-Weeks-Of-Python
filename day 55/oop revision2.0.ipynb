{
 "cells": [
  {
   "cell_type": "markdown",
   "metadata": {},
   "source": [
    "# polymorphism"
   ]
  },
  {
   "cell_type": "code",
   "execution_count": 1,
   "metadata": {},
   "outputs": [
    {
     "name": "stdout",
     "output_type": "stream",
     "text": [
      "5\n"
     ]
    }
   ],
   "source": [
    "print(len(\"hello\"))"
   ]
  },
  {
   "cell_type": "code",
   "execution_count": 2,
   "metadata": {},
   "outputs": [
    {
     "name": "stdout",
     "output_type": "stream",
     "text": [
      "6\n"
     ]
    }
   ],
   "source": [
    "print(len([30,40,50,10,60,100]))"
   ]
  },
  {
   "cell_type": "markdown",
   "metadata": {},
   "source": [
    "    # same function behaving diffrently in different situation,\n",
    "    like here we used print and len for getting len of a string and a list and printing it \n"
   ]
  },
  {
   "cell_type": "code",
   "execution_count": 5,
   "metadata": {},
   "outputs": [
    {
     "name": "stdout",
     "output_type": "stream",
     "text": [
      "310\n",
      "21\n",
      "1001\n"
     ]
    }
   ],
   "source": [
    "def addNum(x,y,z=10):\n",
    "    return x+y+z\n",
    "print(addNum(100,200))\n",
    "print(addNum(1,10))\n",
    "print(addNum(100,1,900))\n",
    "\"\"\"\n",
    "\n",
    "using addNum function to get different result , a basic example of polymorphysim\n",
    "\"\"\""
   ]
  },
  {
   "cell_type": "code",
   "execution_count": 9,
   "metadata": {},
   "outputs": [],
   "source": [
    "class Karnataka():\n",
    "    def language(self):\n",
    "        print(\"kannada   is widely spoken in karnataka\")\n",
    "    def capital(self):\n",
    "        print(\"bengaluru is capital of karnataka\")\n",
    "class Tamilnadu:\n",
    "    def language(self):\n",
    "        print(\"tamil is widely spoken in Tamilnadu\")\n",
    "        \n",
    "    def capital(self):\n",
    "        print(\"chennai is the capital of tamilnadu\")\n",
    "        \n",
    "    "
   ]
  },
  {
   "cell_type": "code",
   "execution_count": 10,
   "metadata": {},
   "outputs": [
    {
     "name": "stdout",
     "output_type": "stream",
     "text": [
      "kannada   is widely spoken in karnataka\n",
      "bengaluru is capital of karnataka\n"
     ]
    }
   ],
   "source": [
    "k = Karnataka()\n",
    "k.language()\n",
    "k.capital()"
   ]
  },
  {
   "cell_type": "code",
   "execution_count": 11,
   "metadata": {},
   "outputs": [
    {
     "name": "stdout",
     "output_type": "stream",
     "text": [
      "tamil is widely spoken in Tamilnadu\n",
      "chennai is the capital of tamilnadu\n"
     ]
    }
   ],
   "source": [
    "t = Tamilnadu()\n",
    "t.language()\n",
    "t.capital()"
   ]
  },
  {
   "cell_type": "code",
   "execution_count": 17,
   "metadata": {},
   "outputs": [
    {
     "name": "stdout",
     "output_type": "stream",
     "text": [
      "tamil is widely spoken in Tamilnadu\n",
      "chennai is the capital of tamilnadu\n",
      "kannada   is widely spoken in karnataka\n",
      "bengaluru is capital of karnataka\n"
     ]
    }
   ],
   "source": [
    "for state in (t, k):\n",
    "    state.language()\n",
    "    state.capital()"
   ]
  },
  {
   "cell_type": "markdown",
   "metadata": {},
   "source": [
    "# the method language and capital here behaving differently here for both classes"
   ]
  },
  {
   "cell_type": "code",
   "execution_count": 19,
   "metadata": {},
   "outputs": [
    {
     "name": "stdout",
     "output_type": "stream",
     "text": [
      "chennai is the capital of tamilnadu\n",
      "tamil is widely spoken in Tamilnadu\n",
      "bengaluru is capital of karnataka\n",
      "kannada   is widely spoken in karnataka\n"
     ]
    }
   ],
   "source": [
    "def india(ind):\n",
    "    ind.capital()\n",
    "    ind.language()\n",
    "for state in (t,k):\n",
    "    india(state)"
   ]
  },
  {
   "cell_type": "code",
   "execution_count": null,
   "metadata": {},
   "outputs": [],
   "source": [
    "\"or we can simply call the function to excute the classes by passing the object name\""
   ]
  },
  {
   "cell_type": "code",
   "execution_count": 21,
   "metadata": {},
   "outputs": [
    {
     "name": "stdout",
     "output_type": "stream",
     "text": [
      "chennai is the capital of tamilnadu\n",
      "tamil is widely spoken in Tamilnadu\n",
      "bengaluru is capital of karnataka\n",
      "kannada   is widely spoken in karnataka\n"
     ]
    }
   ],
   "source": [
    "india(t)\n",
    "india(k)"
   ]
  }
 ],
 "metadata": {
  "kernelspec": {
   "display_name": "Python 3",
   "language": "python",
   "name": "python3"
  },
  "language_info": {
   "codemirror_mode": {
    "name": "ipython",
    "version": 3
   },
   "file_extension": ".py",
   "mimetype": "text/x-python",
   "name": "python",
   "nbconvert_exporter": "python",
   "pygments_lexer": "ipython3",
   "version": "3.7.6"
  }
 },
 "nbformat": 4,
 "nbformat_minor": 4
}
