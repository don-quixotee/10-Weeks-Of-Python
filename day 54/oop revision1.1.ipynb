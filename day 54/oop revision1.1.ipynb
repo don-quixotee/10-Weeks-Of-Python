{
 "cells": [
  {
   "cell_type": "markdown",
   "metadata": {},
   "source": [
    "# class vs instance variables(object variables):\n",
    "    class variable                        instance variable\n",
    "    => defined outsite any method            => Defined inside class method\n",
    "    => Accessed outside class with class     => Accessed outside class with object name\n",
    "       name\n",
    "    => not prefixed                          => prefixed with self keyword\n",
    "    => modification affects all class        => modification to object is local\n",
    "     instance\n",
    "    => classes are indented                  => instances are not"
   ]
  },
  {
   "cell_type": "markdown",
   "metadata": {},
   "source": [
    "# inheritence :-"
   ]
  },
  {
   "cell_type": "code",
   "execution_count": 51,
   "metadata": {},
   "outputs": [],
   "source": [
    "class Student:\n",
    "    student_type = \"college Student\"\n",
    "    def __init__(self, fname, lname, gen, age):\n",
    "        self.first_name = fname\n",
    "        self.last_name = lname\n",
    "        self.gender = gen\n",
    "        self.age = age\n",
    "        \n",
    "    def display(self):\n",
    "        print(\"First Name : {}\".format(self.first_name))\n",
    "        print(\"Last Name  : {}\".format(self.last_name))\n",
    "        print(\"Gender     : {}\".format(self.gender) )\n",
    "        print(\"Age        : {}\".format(self.age) )\n",
    "\n",
    "        \n",
    "    "
   ]
  },
  {
   "cell_type": "code",
   "execution_count": 52,
   "metadata": {},
   "outputs": [
    {
     "name": "stdout",
     "output_type": "stream",
     "text": [
      "First Name : Aman\n",
      "Last Name  : Singh\n",
      "Gender     : Male\n",
      "Age        : 19\n",
      "______________________________ \n",
      "\n",
      "First Name : Ridhima\n",
      "Last Name  : Roy\n",
      "Gender     : Female\n",
      "Age        : 27\n"
     ]
    }
   ],
   "source": [
    "std1 = Student(\"Aman\", \"Singh\",\"Male\", 19)\n",
    "std2 = Student(\"Ridhima\", \"Roy\", \"Female\", 27)\n",
    "std1.display()\n",
    "print(\"_\" * 30, '\\n')\n",
    "std2.display()"
   ]
  },
  {
   "cell_type": "code",
   "execution_count": 53,
   "metadata": {},
   "outputs": [
    {
     "data": {
      "text/plain": [
       "' \\neven though  the new class programmers doesnt have any code\\nwe can access the attributes and method of parent class.\\n\\n'"
      ]
     },
     "execution_count": 53,
     "metadata": {},
     "output_type": "execute_result"
    }
   ],
   "source": [
    "class Programmers(Student):\n",
    "    pass\n",
    "\n",
    "\n",
    "\"\"\" \n",
    "even though  the new class programmers doesnt have any code\n",
    "we can access the attributes and method of parent class.\n",
    "\n",
    "\"\"\"\n"
   ]
  },
  {
   "cell_type": "code",
   "execution_count": 54,
   "metadata": {},
   "outputs": [
    {
     "name": "stdout",
     "output_type": "stream",
     "text": [
      "First Name : ankur\n",
      "Last Name  : Dahiya\n",
      "Gender     : Male\n",
      "Age        : 22\n"
     ]
    }
   ],
   "source": [
    "programmer1 = Programmers(\"ankur\",\"Dahiya\", \"Male\", 22)\n",
    "programmer1.display()\n"
   ]
  },
  {
   "cell_type": "markdown",
   "metadata": {},
   "source": [
    "# inheriting the __init__ method from parent when child already have its own"
   ]
  },
  {
   "cell_type": "code",
   "execution_count": 55,
   "metadata": {},
   "outputs": [],
   "source": [
    "class Programmers(Student):\n",
    "    def __init__(self, fname, lname, gen, age):\n",
    "        Student.__init__(self, fname, lname, gen, age)\n",
    "        self.first_name = fname\n",
    "        self.last_name = lname\n",
    "        self.gender = gen\n",
    "        self.age = age\n",
    "        \n",
    "    def displayinfo(self):\n",
    "        print(\"First Name : {}\".format(self.first_name))\n",
    "        print(\"Last Name  : {}\".format(self.last_name))\n",
    "        print(\"Gender     : {}\".format(self.gender) )\n",
    "        print(\"Age        : {}\".format(self.age) )\n"
   ]
  },
  {
   "cell_type": "code",
   "execution_count": 42,
   "metadata": {},
   "outputs": [
    {
     "name": "stdout",
     "output_type": "stream",
     "text": [
      "First Name : ankur\n",
      "Last Name  : Dahiya\n",
      "Gender     : Male\n",
      "Age        : 22\n"
     ]
    }
   ],
   "source": [
    "programmer1 = Programmers(\"ankur\",\"Dahiya\", \"Male\", 22)\n",
    "programmer1.displayinfo()\n"
   ]
  },
  {
   "cell_type": "code",
   "execution_count": 56,
   "metadata": {},
   "outputs": [],
   "source": [
    "class Programmers(Student):\n",
    "    def __init__(self, fname, lname, gen, age):\n",
    "        Student.__init__(self, fname, lname, gen, age)\n",
    "#         self.first_name = fname\n",
    "#         self.last_name = lname\n",
    "#         self.gender = gen\n",
    "#         self.age = age\n",
    "        \n",
    "    def displayinfo(self):\n",
    "#         print(\"First Name : {}\".format(self.first_name))\n",
    "#         print(\"Last Name  : {}\".format(self.last_name))\n",
    "#         print(\"Gender     : {}\".format(self.gender) )\n",
    "#         print(\"Age        : {}\".format(self.age) )\n",
    "          self.display()\n",
    "\n"
   ]
  },
  {
   "cell_type": "code",
   "execution_count": 57,
   "metadata": {},
   "outputs": [
    {
     "name": "stdout",
     "output_type": "stream",
     "text": [
      "First Name : ankur\n",
      "Last Name  : Dahiya\n",
      "Gender     : Male\n",
      "Age        : 22\n"
     ]
    }
   ],
   "source": [
    "programmer1 = Programmers(\"ankur\",\"Dahiya\", \"Male\", 22)\n",
    "programmer1.displayinfo()\n"
   ]
  },
  {
   "cell_type": "markdown",
   "metadata": {},
   "source": [
    "# Adding attribute to the child class:\n",
    "    "
   ]
  },
  {
   "cell_type": "code",
   "execution_count": 58,
   "metadata": {},
   "outputs": [],
   "source": [
    "class Programmers(Student):\n",
    "    def __init__(self, fname, lname, gen, age, language_known, grad_year):\n",
    "        Student.__init__(self, fname, lname, gen, age)\n",
    "        self.language_known = language_known\n",
    "        self.grad_year = grad_year\n",
    "\n",
    "        \n",
    "    def displayinfo(self):\n",
    "        self.display()\n",
    "        print(\"programming language : {}\".format(self.language_known))\n",
    "        print(\"graduation year      : {}\".format(self.grad_year))\n",
    "        \n",
    "        \n",
    "    \n",
    "\n"
   ]
  },
  {
   "cell_type": "code",
   "execution_count": 59,
   "metadata": {},
   "outputs": [
    {
     "name": "stdout",
     "output_type": "stream",
     "text": [
      "First Name : ankur\n",
      "Last Name  : Dahiya\n",
      "Gender     : Male\n",
      "Age        : 22\n",
      "programming language : python, java, c++\n",
      "graduation year      : 2020\n"
     ]
    }
   ],
   "source": [
    "programmer1 = Programmers(\"ankur\",\"Dahiya\", \"Male\", 22, \"python, java, c++\", \"2020\")\n",
    "programmer1.displayinfo()\n"
   ]
  },
  {
   "cell_type": "code",
   "execution_count": 60,
   "metadata": {},
   "outputs": [
    {
     "data": {
      "text/plain": [
       "'college Student'"
      ]
     },
     "execution_count": 60,
     "metadata": {},
     "output_type": "execute_result"
    }
   ],
   "source": [
    "programmer1.student_type"
   ]
  }
 ],
 "metadata": {
  "kernelspec": {
   "display_name": "Python 3",
   "language": "python",
   "name": "python3"
  },
  "language_info": {
   "codemirror_mode": {
    "name": "ipython",
    "version": 3
   },
   "file_extension": ".py",
   "mimetype": "text/x-python",
   "name": "python",
   "nbconvert_exporter": "python",
   "pygments_lexer": "ipython3",
   "version": "3.7.6"
  }
 },
 "nbformat": 4,
 "nbformat_minor": 4
}
