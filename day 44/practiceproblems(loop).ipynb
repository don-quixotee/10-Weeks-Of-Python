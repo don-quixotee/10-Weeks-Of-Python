{
 "cells": [
  {
   "cell_type": "code",
   "execution_count": 21,
   "metadata": {},
   "outputs": [
    {
     "name": "stdout",
     "output_type": "stream",
     "text": [
      "5\n"
     ]
    }
   ],
   "source": [
    "def num(n):\n",
    "    for i in range(1,11):\n",
    "        return n*i\n",
    "print(num(5))"
   ]
  },
  {
   "cell_type": "code",
   "execution_count": 88,
   "metadata": {},
   "outputs": [
    {
     "name": "stdout",
     "output_type": "stream",
     "text": [
      "True\n"
     ]
    }
   ],
   "source": [
    "def num(num):\n",
    "    t = 0\n",
    "    r = 0\n",
    "    n = num\n",
    "    while n != 0:\n",
    "        r = r + ((n % 10) **3)\n",
    "        n = n // 10\n",
    "    if num == r:\n",
    "        return True\n",
    "    return False\n",
    "    \n",
    "print(num(153))"
   ]
  },
  {
   "cell_type": "code",
   "execution_count": 91,
   "metadata": {},
   "outputs": [
    {
     "name": "stdout",
     "output_type": "stream",
     "text": [
      "FizzBuzz\n"
     ]
    }
   ],
   "source": [
    "def Fizzbuzz(num):\n",
    "    if num % 3 == 0 and num % 5 == 0:\n",
    "        return \"FizzBuzz\"\n",
    "    elif num % 3 == 0:\n",
    "        print(Fizz)\n",
    "    elif num % 5 == 0:\n",
    "        return (Buzz)\n",
    "    else:\n",
    "        return \"Num not present\"\n",
    "num = 120\n",
    "print(Fizzbuzz(num))"
   ]
  },
  {
   "cell_type": "code",
   "execution_count": null,
   "metadata": {},
   "outputs": [],
   "source": [
    "# 4. Write a program to find the greatest common divisor (GCD) or highest \n",
    "# common factor (HCF) of given two numbers.\n",
    "def HCF(m , n):\n",
    "    if m % n == 0:\n",
    "        return n\n",
    "    else:\n",
    "        r = m % n \n",
    "    return(HCF(n,r))\n",
    "print(HCF(20,24))"
   ]
  },
  {
   "cell_type": "code",
   "execution_count": 94,
   "metadata": {},
   "outputs": [
    {
     "name": "stdout",
     "output_type": "stream",
     "text": [
      "4\n"
     ]
    }
   ],
   "source": [
    "def HCF(m , n):\n",
    "    if m % n == 0:\n",
    "        return n\n",
    "    else:\n",
    "        r = m % n \n",
    "    return(HCF(n,r))\n",
    "print(HCF(20,24))"
   ]
  },
  {
   "cell_type": "code",
   "execution_count": null,
   "metadata": {},
   "outputs": [],
   "source": []
  }
 ],
 "metadata": {
  "kernelspec": {
   "display_name": "Python 3",
   "language": "python",
   "name": "python3"
  },
  "language_info": {
   "codemirror_mode": {
    "name": "ipython",
    "version": 3
   },
   "file_extension": ".py",
   "mimetype": "text/x-python",
   "name": "python",
   "nbconvert_exporter": "python",
   "pygments_lexer": "ipython3",
   "version": "3.7.6"
  }
 },
 "nbformat": 4,
 "nbformat_minor": 4
}
